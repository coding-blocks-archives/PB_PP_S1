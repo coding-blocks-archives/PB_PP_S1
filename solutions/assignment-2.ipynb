{
 "cells": [
  {
   "cell_type": "code",
   "execution_count": 1,
   "metadata": {},
   "outputs": [],
   "source": [
    "#Q1\n",
    "def odd_even(n):\n",
    "    return 'even' if n%2==0 else 'odd'"
   ]
  },
  {
   "cell_type": "code",
   "execution_count": 2,
   "metadata": {},
   "outputs": [],
   "source": [
    "#Q2\n",
    "def sqrt(n):\n",
    "    return n**(0.5)"
   ]
  },
  {
   "cell_type": "code",
   "execution_count": 3,
   "metadata": {},
   "outputs": [],
   "source": [
    "#Q3\n",
    "def print_till_n(n):\n",
    "    for i in range(n):\n",
    "        print(n)\n",
    "    for i in range(n,0,-1):\n",
    "        print(n)"
   ]
  },
  {
   "cell_type": "code",
   "execution_count": 6,
   "metadata": {},
   "outputs": [],
   "source": [
    "#Q4\n",
    "def print_odd_even(n):\n",
    "    print('Even:', end='')\n",
    "    for i in range(0,n,2):\n",
    "        print(i)\n",
    "    print('Odd:', end='')\n",
    "    for i in range(1,n,2):\n",
    "        print(i)"
   ]
  },
  {
   "cell_type": "code",
   "execution_count": 8,
   "metadata": {},
   "outputs": [],
   "source": [
    "#Q5\n",
    "def quad_roots(b,a,c):\n",
    "    d = (b**2 - 4*a*c)**0.5\n",
    "    return (d + b)/4*a*c , (d-b)/4*a*c"
   ]
  },
  {
   "cell_type": "code",
   "execution_count": 9,
   "metadata": {},
   "outputs": [],
   "source": [
    "#Q6\n",
    "def number_digits(n):\n",
    "    return len(str(n))"
   ]
  },
  {
   "cell_type": "code",
   "execution_count": 10,
   "metadata": {},
   "outputs": [],
   "source": [
    "#Q6\n",
    "def number_digits_2(n):\n",
    "    counter = 0\n",
    "    while n:\n",
    "        n = n//10\n",
    "        counter+=1\n",
    "    return counter"
   ]
  },
  {
   "cell_type": "code",
   "execution_count": 29,
   "metadata": {},
   "outputs": [],
   "source": [
    "#Q7\n",
    "def isPrime(n):\n",
    "    if n <= 1:\n",
    "        return False\n",
    "    for i in range(2,int(n/2)+1):\n",
    "        if n%i == 0:\n",
    "            return False\n",
    "    else:\n",
    "        return True"
   ]
  },
  {
   "cell_type": "code",
   "execution_count": 38,
   "metadata": {},
   "outputs": [],
   "source": [
    "#Q8\n",
    "def mult_3or5(n):\n",
    "    sum1 = 0\n",
    "    for i in range(n):\n",
    "        if i%3 == 0 or i%5 ==0:\n",
    "            sum1+=i\n",
    "    return sum1"
   ]
  },
  {
   "cell_type": "code",
   "execution_count": 43,
   "metadata": {},
   "outputs": [],
   "source": [
    "#Q9\n",
    "def sum_or_product(n , act):\n",
    "    if act == 'sum':\n",
    "        return n*(n+1)/2\n",
    "    if act == 'product':\n",
    "        return factorial(n)\n",
    "\n",
    "def factorial(n):\n",
    "    t = 1\n",
    "    for i in range(1,n+1):\n",
    "        t=t*i\n",
    "    return t"
   ]
  },
  {
   "cell_type": "code",
   "execution_count": 46,
   "metadata": {},
   "outputs": [],
   "source": [
    "#Q10 same as Q8 , same as Q11"
   ]
  },
  {
   "cell_type": "code",
   "execution_count": 47,
   "metadata": {},
   "outputs": [],
   "source": [
    "#Q12\n",
    "def diff_sum(n):\n",
    "    return sum([i**2 for i in range(n+1)]) - sum([i for i in range(n+1)])\n"
   ]
  },
  {
   "cell_type": "code",
   "execution_count": 49,
   "metadata": {},
   "outputs": [],
   "source": [
    "#Q13\n",
    "def repeated_sum_avg(n):\n",
    "    total,count = 0,0\n",
    "    while True:\n",
    "        if n == 'stop' or n.isalpha():\n",
    "            return total, count, total/count\n",
    "        else:\n",
    "            n = int(n)\n",
    "            total += n\n",
    "            count += 1      "
   ]
  },
  {
   "cell_type": "code",
   "execution_count": 50,
   "metadata": {},
   "outputs": [],
   "source": [
    "#Q14\n",
    "def all_prime(n):\n",
    "    for i in range(2,n):\n",
    "        if isPrime(i):\n",
    "            print(i)"
   ]
  },
  {
   "cell_type": "code",
   "execution_count": 51,
   "metadata": {},
   "outputs": [],
   "source": [
    "#Q15 done in prev Q"
   ]
  },
  {
   "cell_type": "code",
   "execution_count": 52,
   "metadata": {},
   "outputs": [],
   "source": [
    "#Q16\n",
    "def fib2(n):\n",
    "    result = []\n",
    "    prev, curr = 0, 1\n",
    "    while prev < n:\n",
    "        result.append(prev)\n",
    "        prev, curr = curr, prev+curr\n",
    "        return result"
   ]
  },
  {
   "cell_type": "code",
   "execution_count": 53,
   "metadata": {},
   "outputs": [],
   "source": [
    "#Q17\n",
    "def Lcm(a,b):\n",
    "    if (a%b == 0 or b%a == 0):\n",
    "        return a if a>=b else b\n",
    "    else:\n",
    "        larger = a if a>=b else b\n",
    "        smaller = b if a>=b else a\n",
    "        for i in range(larger, larger*smaller+1):\n",
    "            if (i%a == 0 and i%b == 0):\n",
    "                return i"
   ]
  },
  {
   "cell_type": "code",
   "execution_count": 54,
   "metadata": {},
   "outputs": [],
   "source": [
    "#Q18\n",
    "def find_factors(n):\n",
    "    fact = []\n",
    "    for i in range(1,n+1):\n",
    "        if n%i == 0:\n",
    "            fact.append(i)\n",
    "    return fact"
   ]
  },
  {
   "cell_type": "code",
   "execution_count": 55,
   "metadata": {},
   "outputs": [],
   "source": [
    "def find_factors2(n):\n",
    "    return [i for i in range(1,n+1) if n%i == 0]"
   ]
  },
  {
   "cell_type": "code",
   "execution_count": 56,
   "metadata": {},
   "outputs": [],
   "source": [
    "def find_factors3(n):\n",
    "    return list(filter(lambda a : n%a == 0 , [i for i in range(1,n+1)]))"
   ]
  },
  {
   "cell_type": "code",
   "execution_count": 57,
   "metadata": {},
   "outputs": [],
   "source": [
    "#Q19\n",
    "def pat1(n):\n",
    "    for i in range(1,n):\n",
    "        print('*'*i)"
   ]
  },
  {
   "cell_type": "code",
   "execution_count": 66,
   "metadata": {},
   "outputs": [],
   "source": [
    "def pat2(n):\n",
    "    for i in range(n,-1,-1):\n",
    "        print('*'*i)"
   ]
  },
  {
   "cell_type": "code",
   "execution_count": 68,
   "metadata": {},
   "outputs": [],
   "source": [
    "def pattern3(n):\n",
    "    for i in range(1,n+1):\n",
    "        print((str(i) + ' ')*i)"
   ]
  },
  {
   "cell_type": "code",
   "execution_count": 69,
   "metadata": {},
   "outputs": [],
   "source": [
    "def pattern4(n):\n",
    "    for i in range(1,n+1):\n",
    "        print(' '*(n-i) , '* '*i)"
   ]
  },
  {
   "cell_type": "code",
   "execution_count": 70,
   "metadata": {},
   "outputs": [],
   "source": [
    "def pattern5(n):\n",
    "    counter = 1\n",
    "    for i in range(1,n+1):\n",
    "        if i == (counter* (counter+1))//2:\n",
    "            print(i)\n",
    "            #print(chr(i+64))\n",
    "            counter+=1\n",
    "        else:\n",
    "            print(i, end=' ')\n",
    "            #print(chr(i+64), end=' ')"
   ]
  }
 ],
 "metadata": {
  "kernelspec": {
   "display_name": "Python 3",
   "language": "python",
   "name": "python3"
  },
  "language_info": {
   "codemirror_mode": {
    "name": "ipython",
    "version": 3
   },
   "file_extension": ".py",
   "mimetype": "text/x-python",
   "name": "python",
   "nbconvert_exporter": "python",
   "pygments_lexer": "ipython3",
   "version": "3.6.5rc1"
  }
 },
 "nbformat": 4,
 "nbformat_minor": 2
}
