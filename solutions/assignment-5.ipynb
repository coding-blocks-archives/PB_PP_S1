{
 "cells": [
  {
   "cell_type": "markdown",
   "metadata": {},
   "source": [
    "# Lists"
   ]
  },
  {
   "cell_type": "code",
   "execution_count": 4,
   "metadata": {},
   "outputs": [
    {
     "name": "stdout",
     "output_type": "stream",
     "text": [
      "5\n",
      "4\n",
      "3\n",
      "2\n",
      "1\n"
     ]
    }
   ],
   "source": [
    "#Q1\n",
    "def print_reverse(newlist):\n",
    "    for i in range(len(newlist)-1, -1 , -1):\n",
    "        print(newlist[i])\n",
    "        \n",
    "print_reverse([1,2,3,4,5]) "
   ]
  },
  {
   "cell_type": "code",
   "execution_count": 5,
   "metadata": {},
   "outputs": [
    {
     "data": {
      "text/plain": [
       "2"
      ]
     },
     "execution_count": 5,
     "metadata": {},
     "output_type": "execute_result"
    }
   ],
   "source": [
    "#Q2\n",
    "def find_index(newlist, n):\n",
    "    return newlist.index(n)\n",
    "find_index([1,2,3,4,5] , 3)"
   ]
  },
  {
   "cell_type": "code",
   "execution_count": 9,
   "metadata": {},
   "outputs": [
    {
     "name": "stdout",
     "output_type": "stream",
     "text": [
      "True\n",
      "True\n",
      "False\n"
     ]
    }
   ],
   "source": [
    "#Q3\n",
    "def sequence_exists(newlist):\n",
    "    return 1 in newlist and 2 in newlist and 3 in newlist\n",
    "print(sequence_exists([1,2,3,4,5]))\n",
    "print(sequence_exists([1,4,5,2,6,3]))\n",
    "print(sequence_exists([1,4,5,2,6]))"
   ]
  },
  {
   "cell_type": "code",
   "execution_count": 14,
   "metadata": {},
   "outputs": [
    {
     "name": "stdout",
     "output_type": "stream",
     "text": [
      "[2, 3, 4, 67, 90, 2, 3]\n"
     ]
    }
   ],
   "source": [
    "#Q4\n",
    "def insert_in_list(newlist, n, k):\n",
    "    return newlist.insert(k, n)\n",
    "mylist = [2,3,4,67,2,3]\n",
    "insert_in_list(mylist, 90, 4)\n",
    "print(mylist)"
   ]
  },
  {
   "cell_type": "code",
   "execution_count": 15,
   "metadata": {},
   "outputs": [
    {
     "name": "stdout",
     "output_type": "stream",
     "text": [
      "Enter n: 5\n",
      "Enter the numbers: 10\n",
      "Enter the numbers: 30\n",
      "Enter the numbers: 40\n",
      "Enter the numbers: 50\n",
      "Enter the numbers: 60\n"
     ]
    },
    {
     "data": {
      "text/plain": [
       "[60, 50, 40, 30, 10]"
      ]
     },
     "execution_count": 15,
     "metadata": {},
     "output_type": "execute_result"
    }
   ],
   "source": [
    "#Q5\n",
    "def take_n_inputs():\n",
    "    n =  int(input(\"Enter n: \"))\n",
    "    mylist = []\n",
    "    for i in range(n):\n",
    "        a = int(input(\"Enter the numbers: \"))\n",
    "        mylist.append(a)\n",
    "    return mylist\n",
    "\n",
    "def reverse_n_inputs(newlist):\n",
    "    return newlist[::-1]\n",
    "\n",
    "reverse_n_inputs(take_n_inputs())"
   ]
  },
  {
   "cell_type": "code",
   "execution_count": 16,
   "metadata": {
    "scrolled": true
   },
   "outputs": [
    {
     "name": "stdout",
     "output_type": "stream",
     "text": [
      "232792560\n"
     ]
    }
   ],
   "source": [
    "#Q6\n",
    "print(2520*11*13*2*17*19)"
   ]
  },
  {
   "cell_type": "code",
   "execution_count": 18,
   "metadata": {},
   "outputs": [
    {
     "data": {
      "text/plain": [
       "[1, 3, 5, 6, 8, 10]"
      ]
     },
     "execution_count": 18,
     "metadata": {},
     "output_type": "execute_result"
    }
   ],
   "source": [
    "#Q7\n",
    "def odd_even(firstlist, secondlist):\n",
    "    return list(filter(lambda x:x%2 != 0, firstlist)) + list(filter(lambda x:x%2 == 0, secondlist)) \n",
    "\n",
    "odd_even([1,2,3,4,5] , [6,7,8,9,10])"
   ]
  },
  {
   "cell_type": "code",
   "execution_count": 20,
   "metadata": {},
   "outputs": [
    {
     "data": {
      "text/plain": [
       "7"
      ]
     },
     "execution_count": 20,
     "metadata": {},
     "output_type": "execute_result"
    }
   ],
   "source": [
    "#Q8\n",
    "def runner_up(newlist):\n",
    "    newlist.remove(max(newlist))\n",
    "    return max(newlist)\n",
    "runner_up([3,4,5,6,7,10])"
   ]
  },
  {
   "cell_type": "code",
   "execution_count": 21,
   "metadata": {},
   "outputs": [
    {
     "data": {
      "text/plain": [
       "5"
      ]
     },
     "execution_count": 21,
     "metadata": {},
     "output_type": "execute_result"
    }
   ],
   "source": [
    "#Q9\n",
    "def find_single(newlist):\n",
    "    t = 0\n",
    "    for i in newlist:\n",
    "        t^=i\n",
    "    return t\n",
    "find_single([1,1,2,2,4,5,4,7,7])"
   ]
  },
  {
   "cell_type": "code",
   "execution_count": 22,
   "metadata": {},
   "outputs": [],
   "source": [
    "#Q10\n",
    "def abs_diff(newlist):\n",
    "    mylist =[]\n",
    "    for i in range(len(newlist)):\n",
    "        inc = newlist.count(newlist[i] + 1)\n",
    "        dec = newlist.count(newlist[i] -1)\n",
    "        equal = newlist.count(newlist[i])\n",
    "        mylist.append(inc + equal)\n",
    "        mylist.append(dec + equal)\n",
    "    return max(mylist)"
   ]
  },
  {
   "cell_type": "code",
   "execution_count": 23,
   "metadata": {},
   "outputs": [],
   "source": [
    "#Q11\n",
    "def squared_elements(newlist):\n",
    "    return list(map(lambda x:x**2, newlist))"
   ]
  },
  {
   "cell_type": "code",
   "execution_count": 24,
   "metadata": {},
   "outputs": [
    {
     "data": {
      "text/plain": [
       "[710, 34, 45]"
      ]
     },
     "execution_count": 24,
     "metadata": {},
     "output_type": "execute_result"
    }
   ],
   "source": [
    "#Q12\n",
    "def filtered_list(newlist):\n",
    "    return list(filter(lambda x: x > min([x**2 for x in newlist]) , newlist))\n",
    "\n",
    "filtered_list([5,6,710,12,23,34,45,11])"
   ]
  },
  {
   "cell_type": "code",
   "execution_count": 25,
   "metadata": {},
   "outputs": [],
   "source": [
    "#Q13\n",
    "def min_max(newlist):\n",
    "    return min(newlist) , max(newlist)"
   ]
  },
  {
   "cell_type": "code",
   "execution_count": 26,
   "metadata": {},
   "outputs": [],
   "source": [
    "#Q14\n",
    "#already done"
   ]
  },
  {
   "cell_type": "code",
   "execution_count": 27,
   "metadata": {},
   "outputs": [],
   "source": [
    "#Q15\n",
    "def square_even(newlist):\n",
    "    return list(map(lambda x:x**2 , filter(lambda x:x%2 == 0 , newlist)))"
   ]
  }
 ],
 "metadata": {
  "kernelspec": {
   "display_name": "Python 3",
   "language": "python",
   "name": "python3"
  },
  "language_info": {
   "codemirror_mode": {
    "name": "ipython",
    "version": 3
   },
   "file_extension": ".py",
   "mimetype": "text/x-python",
   "name": "python",
   "nbconvert_exporter": "python",
   "pygments_lexer": "ipython3",
   "version": "3.6.5rc1"
  }
 },
 "nbformat": 4,
 "nbformat_minor": 2
}
