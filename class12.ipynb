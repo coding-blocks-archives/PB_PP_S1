{
 "cells": [
  {
   "cell_type": "code",
   "execution_count": 1,
   "metadata": {},
   "outputs": [],
   "source": [
    "from selenium import webdriver"
   ]
  },
  {
   "cell_type": "code",
   "execution_count": 5,
   "metadata": {},
   "outputs": [],
   "source": [
    "browser = webdriver.Chrome('/Users/himankbhalla/Downloads/chromedriver_2')"
   ]
  },
  {
   "cell_type": "code",
   "execution_count": 6,
   "metadata": {},
   "outputs": [],
   "source": [
    "browser.get('https://codechef.com')"
   ]
  },
  {
   "cell_type": "code",
   "execution_count": 7,
   "metadata": {},
   "outputs": [],
   "source": [
    "username = browser.find_element_by_id('edit-name')"
   ]
  },
  {
   "cell_type": "code",
   "execution_count": 10,
   "metadata": {},
   "outputs": [],
   "source": [
    "username.send_keys('himankb')"
   ]
  },
  {
   "cell_type": "code",
   "execution_count": 11,
   "metadata": {},
   "outputs": [],
   "source": [
    "password = browser.find_element_by_id('edit-pass')"
   ]
  },
  {
   "cell_type": "code",
   "execution_count": 12,
   "metadata": {},
   "outputs": [],
   "source": [
    "from getpass import getpass"
   ]
  },
  {
   "cell_type": "code",
   "execution_count": 13,
   "metadata": {},
   "outputs": [
    {
     "name": "stdout",
     "output_type": "stream",
     "text": [
      "enter password········\n"
     ]
    }
   ],
   "source": [
    "password.send_keys(getpass('enter password'))"
   ]
  },
  {
   "cell_type": "code",
   "execution_count": 14,
   "metadata": {},
   "outputs": [],
   "source": [
    "login_button = browser.find_element_by_id('edit-submit')"
   ]
  },
  {
   "cell_type": "code",
   "execution_count": 15,
   "metadata": {},
   "outputs": [],
   "source": [
    "login_button.click()"
   ]
  },
  {
   "cell_type": "code",
   "execution_count": 16,
   "metadata": {},
   "outputs": [],
   "source": [
    "browser.get('https://codechef.com/submit/TEST')"
   ]
  },
  {
   "cell_type": "code",
   "execution_count": 18,
   "metadata": {},
   "outputs": [],
   "source": [
    "textArea = browser.find_element_by_id('edit-program')"
   ]
  },
  {
   "cell_type": "code",
   "execution_count": 19,
   "metadata": {},
   "outputs": [
    {
     "name": "stdout",
     "output_type": "stream",
     "text": [
      "t = int(input())\n",
      "while t != 42:\n",
      "    print(t)\n",
      "    t = int(input())\n",
      "else:\n",
      "    pass\n",
      "\n"
     ]
    }
   ],
   "source": [
    "with open('solution.py', 'r') as f:\n",
    "    code = f.read()\n",
    "    print(code)\n",
    "    textArea.send_keys(code)"
   ]
  },
  {
   "cell_type": "code",
   "execution_count": 20,
   "metadata": {},
   "outputs": [],
   "source": [
    "submit_button = browser.find_element_by_id('edit-submit-1')"
   ]
  },
  {
   "cell_type": "code",
   "execution_count": 21,
   "metadata": {},
   "outputs": [],
   "source": [
    "submit_button.click()"
   ]
  },
  {
   "cell_type": "markdown",
   "metadata": {},
   "source": [
    "# Web API"
   ]
  },
  {
   "cell_type": "code",
   "execution_count": 22,
   "metadata": {},
   "outputs": [],
   "source": [
    "import requests"
   ]
  },
  {
   "cell_type": "code",
   "execution_count": 23,
   "metadata": {},
   "outputs": [],
   "source": [
    "facebook_id = 4\n",
    "url = 'https://graph.facebook.com/{}/picture?type=large'.format(facebook_id)\n",
    "result = requests.get(url)"
   ]
  },
  {
   "cell_type": "code",
   "execution_count": 24,
   "metadata": {},
   "outputs": [
    {
     "data": {
      "text/plain": [
       "requests.models.Response"
      ]
     },
     "execution_count": 24,
     "metadata": {},
     "output_type": "execute_result"
    }
   ],
   "source": [
    "type(result)"
   ]
  },
  {
   "cell_type": "code",
   "execution_count": 26,
   "metadata": {},
   "outputs": [],
   "source": [
    "with open('profile.jpg', 'wb') as f:\n",
    "    f.write(result.content)"
   ]
  },
  {
   "cell_type": "code",
   "execution_count": 27,
   "metadata": {},
   "outputs": [],
   "source": [
    "url = 'http://quotes.rest/qod.json?category=inspire'"
   ]
  },
  {
   "cell_type": "code",
   "execution_count": 28,
   "metadata": {},
   "outputs": [],
   "source": [
    "response = requests.get(url)"
   ]
  },
  {
   "cell_type": "code",
   "execution_count": 29,
   "metadata": {},
   "outputs": [
    {
     "name": "stdout",
     "output_type": "stream",
     "text": [
      "{\n",
      "    \"success\": {\n",
      "        \"total\": 1\n",
      "    },\n",
      "    \"contents\": {\n",
      "        \"quotes\": [\n",
      "            {\n",
      "                \"quote\": \"Every day you have a choice to be honest or deceptive. If you commit to telling the truth, you will win. You’ll win more trust, you’ll win more business, and you’ll win more peace of mind. You’ll break the system and be even more successful.\",\n",
      "                \"length\": null,\n",
      "                \"author\": \"Dale Patridge\",\n",
      "                \"tags\": [\n",
      "                    \"honest\",\n",
      "                    \"inspire\",\n",
      "                    \"success\",\n",
      "                    \"truth\",\n",
      "                    \"win\"\n",
      "                ],\n",
      "                \"category\": \"inspire\",\n",
      "                \"date\": \"2019-07-05\",\n",
      "                \"permalink\": \"https://theysaidso.com/quote/ALTQKodcrj3X6ypM8lGjnAeF/dale-patridge-every-day-you-have-a-choice-to-be-honest-or-deceptive-if-you-commi\",\n",
      "                \"title\": \"Inspiring Quote of the day\",\n",
      "                \"background\": \"https://theysaidso.com/img/bgs/man_on_the_mountain.jpg\",\n",
      "                \"id\": \"ALTQKodcrj3X6ypM8lGjnAeF\"\n",
      "            }\n",
      "        ],\n",
      "        \"copyright\": \"2017-19 theysaidso.com\"\n",
      "    }\n",
      "}\n"
     ]
    }
   ],
   "source": [
    "print(response.text)"
   ]
  },
  {
   "cell_type": "code",
   "execution_count": 36,
   "metadata": {},
   "outputs": [],
   "source": [
    "key = 'a0be88dbdd2593c0b176df3a1d01a100'\n",
    "code = 'just a simple post request!!'\n",
    "name = 'my_api_paste'\n",
    "url = 'https://pastebin.com/api/api_post.php'\n",
    "data = {\n",
    "    \"api_dev_key\": key,\n",
    "    \"api_option\": 'paste',\n",
    "    \"api_paste_code\": code,\n",
    "    \"api_paste_name\": name\n",
    "}\n",
    "response = requests.post(url, data=data)"
   ]
  },
  {
   "cell_type": "code",
   "execution_count": 37,
   "metadata": {},
   "outputs": [
    {
     "data": {
      "text/plain": [
       "'https://pastebin.com/rDFKnWun'"
      ]
     },
     "execution_count": 37,
     "metadata": {},
     "output_type": "execute_result"
    }
   ],
   "source": [
    "response.text"
   ]
  },
  {
   "cell_type": "code",
   "execution_count": 38,
   "metadata": {},
   "outputs": [],
   "source": [
    "from bs4 import BeautifulSoup"
   ]
  },
  {
   "cell_type": "code",
   "execution_count": 39,
   "metadata": {},
   "outputs": [],
   "source": [
    "import html5lib"
   ]
  },
  {
   "cell_type": "code",
   "execution_count": 40,
   "metadata": {},
   "outputs": [],
   "source": [
    "url = 'https://www.passiton.com/inspirational-quotes'"
   ]
  },
  {
   "cell_type": "code",
   "execution_count": 41,
   "metadata": {},
   "outputs": [],
   "source": [
    "response = requests.get(url)"
   ]
  },
  {
   "cell_type": "code",
   "execution_count": null,
   "metadata": {},
   "outputs": [],
   "source": []
  },
  {
   "cell_type": "code",
   "execution_count": 44,
   "metadata": {},
   "outputs": [],
   "source": [
    "soup = BeautifulSoup(response.content, 'html5lib')"
   ]
  },
  {
   "cell_type": "code",
   "execution_count": 50,
   "metadata": {},
   "outputs": [],
   "source": [
    "img_list = soup.find(id =\"all_quotes\").findAll('img')"
   ]
  },
  {
   "cell_type": "code",
   "execution_count": 54,
   "metadata": {},
   "outputs": [
    {
     "name": "stdout",
     "output_type": "stream",
     "text": [
      "https://quotes.values.com/quote_artwork/4440/medium/20190705_friday_quote.jpg?1561750174\n",
      "https://quotes.values.com/quote_artwork/7227/medium/20190704_thursday_quote.jpg?1561750149\n",
      "https://quotes.values.com/quote_artwork/3666/medium/20190703_wednesday_quote.jpg?1561750097\n",
      "https://quotes.values.com/quote_artwork/7942/medium/20190702_tuesday_quote.jpg?1561750070\n",
      "https://quotes.values.com/quote_artwork/7941/medium/20190701_monday_quote.jpg?1561750040\n",
      "https://quotes.values.com/quote_artwork/3208/medium/20190628_friday_quote.jpg?1561128286\n",
      "https://quotes.values.com/quote_artwork/3035/medium/20190627_thursday_quote.jpg?1561128232\n",
      "https://quotes.values.com/quote_artwork/7940/medium/20190626_wednesday_quote.jpg?1561128205\n",
      "https://quotes.values.com/quote_artwork/7939/medium/20190625_tuesday_quote.jpg?1561128186\n",
      "https://quotes.values.com/quote_artwork/7938/medium/20190624_monday_quote.jpg?1561128165\n",
      "https://quotes.values.com/quote_artwork/7936/medium/20190621_friday_quote.jpg?1560538553\n",
      "https://quotes.values.com/quote_artwork/7935/medium/20190620_thursday_quote.jpg?1560538528\n",
      "https://quotes.values.com/quote_artwork/7934/medium/20190619_wednesday_quote.jpg?1560538500\n",
      "https://quotes.values.com/quote_artwork/7933/medium/20190618_tuesday_quote.jpg?1560538460\n",
      "https://quotes.values.com/quote_artwork/7937/medium/20190617_monday_quote.jpg?1560538436\n",
      "https://quotes.values.com/quote_artwork/6567/medium/20190614_friday_quote.jpg?1559862184\n",
      "https://quotes.values.com/quote_artwork/7932/medium/20190613_thursday_quote.jpg?1559862156\n",
      "https://quotes.values.com/quote_artwork/7931/medium/20190612_wednesday_quote.jpg?1559862129\n",
      "https://quotes.values.com/quote_artwork/7664/medium/20190611_tuesday_quote.jpg?1559862107\n",
      "https://quotes.values.com/quote_artwork/7930/medium/20190610_monday_quote.jpg?1559862083\n",
      "https://quotes.values.com/quote_artwork/7929/medium/20190607_friday_quote.jpg?1559263864\n",
      "https://quotes.values.com/quote_artwork/7509/medium/20190606_thursday_quote.jpg?1559263829\n",
      "https://quotes.values.com/quote_artwork/7928/medium/20190605_wednesday_quote_alternate.jpg?1559318438\n",
      "https://quotes.values.com/quote_artwork/7927/medium/20190604_tuesday_quote.jpg?1559263748\n",
      "https://quotes.values.com/quote_artwork/7926/medium/20190603_monday_quote.jpg?1559263720\n",
      "https://quotes.values.com/quote_artwork/7925/medium/20190531_friday_quote.jpg?1558885426\n",
      "https://quotes.values.com/quote_artwork/6204/medium/20190530_thursday_quote.jpg?1558885388\n",
      "https://quotes.values.com/quote_artwork/5285/medium/20190529_wednesday_quote.jpg?1558885348\n",
      "https://quotes.values.com/quote_artwork/7924/medium/20190528_tuesday_quote.jpg?1558885277\n",
      "https://quotes.values.com/quote_artwork/7923/medium/20190527_monday_quote.jpg?1558885204\n",
      "https://quotes.values.com/quote_artwork/6155/medium/20190524_friday_quote.jpg?1558123118\n",
      "https://quotes.values.com/quote_artwork/7922/medium/20190523_thursday_quote.jpg?1558123087\n"
     ]
    }
   ],
   "source": [
    "for index, img in enumerate(img_list):\n",
    "    print(img.attrs['src'])\n",
    "    name = 'img/qoutes-{}.jpg'.format(index)\n",
    "    with open(name, 'wb') as f:\n",
    "        binary_img = requests.get(img.attrs['src'])\n",
    "        f.write(binary_img.content)"
   ]
  },
  {
   "cell_type": "code",
   "execution_count": null,
   "metadata": {},
   "outputs": [],
   "source": []
  },
  {
   "cell_type": "code",
   "execution_count": null,
   "metadata": {},
   "outputs": [],
   "source": []
  },
  {
   "cell_type": "code",
   "execution_count": null,
   "metadata": {},
   "outputs": [],
   "source": []
  }
 ],
 "metadata": {
  "kernelspec": {
   "display_name": "Python 3",
   "language": "python",
   "name": "python3"
  },
  "language_info": {
   "codemirror_mode": {
    "name": "ipython",
    "version": 3
   },
   "file_extension": ".py",
   "mimetype": "text/x-python",
   "name": "python",
   "nbconvert_exporter": "python",
   "pygments_lexer": "ipython3",
   "version": "3.6.5rc1"
  }
 },
 "nbformat": 4,
 "nbformat_minor": 2
}
